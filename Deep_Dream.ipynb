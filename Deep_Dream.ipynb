{
 "cells": [
  {
   "cell_type": "code",
   "execution_count": 1,
   "metadata": {},
   "outputs": [
    {
     "name": "stderr",
     "output_type": "stream",
     "text": [
      "Using TensorFlow backend.\n"
     ]
    }
   ],
   "source": [
    "from keras.applications import inception_v3\n",
    "from keras import backend as K\n",
    "\n",
    "K.set_learning_phase(0)\n",
    "model = inception_v3.InceptionV3(weights ='imagenet', include_top =False)"
   ]
  },
  {
   "cell_type": "code",
   "execution_count": 2,
   "metadata": {},
   "outputs": [
    {
     "name": "stdout",
     "output_type": "stream",
     "text": [
      "WARNING:tensorflow:Variable += will be deprecated. Use variable.assign_add if you want assignment to the variable value or 'x = x + y' if you want a new python Tensor object.\n"
     ]
    }
   ],
   "source": [
    "layer_contributions ={'mixed2':0.2,'mixed3':3.,'mixed4':2.,'mixed5':1.5}\n",
    "layer_dict = dict([(layer.name,layer) for layer in model.layers])\n",
    "# difing loss to maximised\n",
    "loss = K.variable(0.)\n",
    "for layer_name in layer_contributions:\n",
    "    coeff =layer_contributions[layer_name]\n",
    "    activation = layer_dict[layer_name].output\n",
    "    scaling =K.prod(K.cast(K.shape(activation),'float32'))\n",
    "    loss += coeff* K.sum(K.square(activation[:,2:-2,2:-2,:]))/scaling"
   ]
  },
  {
   "cell_type": "code",
   "execution_count": 3,
   "metadata": {},
   "outputs": [],
   "source": [
    "# gradiant -accent process\n",
    "dream = model.input\n",
    "grads = K.gradients(loss,dream)[0]\n",
    "grads /= K.maximum(K.mean(K.abs(grads)),1e-7)\n",
    "\n",
    "outputs = [loss, grads]\n",
    "fetch_loss_and_grads =K.function([dream],outputs)\n",
    "\n",
    "def eval_loass_grads(x):\n",
    "    outs = fetch_loss_and_grads([x])\n",
    "    loss_value = outs[0]\n",
    "    grad_values = outs[1]\n",
    "    return loss_value, grad_values\n",
    "def gradient_ascent(x, iterations, step, max_loss =None):\n",
    "    for i in range (iterations):\n",
    "        loss_value, grad_values = eval_loass_grads(x)\n",
    "        if max_loss is not None and loss_value> max_loss:\n",
    "            break\n",
    "        print('....Loss value at',i,':', loss_value)\n",
    "        x+= step*grad_values\n",
    "    return x\n",
    "    "
   ]
  },
  {
   "cell_type": "code",
   "execution_count": 6,
   "metadata": {},
   "outputs": [],
   "source": [
    "import scipy\n",
    "from keras.preprocessing import image\n",
    "\n",
    "def resize_img(img, size):\n",
    "    img =np.copy(img)\n",
    "    factors = (1,\n",
    "               float(size[0])/img.shape[1],\n",
    "               float(size[1])/img.shape[2],\n",
    "               1)\n",
    "    return scipy.ndimage.zoom(img, factors,order = 1)\n",
    "def save_img(img, fname):\n",
    "    pil_img = deprocess_img(np.copy(img))\n",
    "    scipy.misc.imsave(fname,pil_img)\n",
    "def preprocess_image(image_path):\n",
    "    img = image.load_img(image_path)\n",
    "    img = image.img_to_array(img)\n",
    "    img = np.expand_dims(img, axis=0)\n",
    "    \n",
    "    img = inception_v3.preprocess_input(img)\n",
    "    return img\n",
    "def deprocess_img(x):\n",
    "    if K.image_data_format() == 'channels_first':\n",
    "        x =x.reshape((3, x.shape[2], x.shape[3]))\n",
    "        x.transpose((1,2,0))\n",
    "    else:\n",
    "        x =x.reshape((x.shape[1], x.shape[2],3))\n",
    "    x /=2.\n",
    "    x +=0.5\n",
    "    x *=255.\n",
    "    x = np.clip(x, 0, 255)\n",
    "    return x"
   ]
  },
  {
   "cell_type": "code",
   "execution_count": 7,
   "metadata": {},
   "outputs": [
    {
     "name": "stdout",
     "output_type": "stream",
     "text": [
      "Processing image shape (205, 115)\n",
      "....Loss value at 0 : 0.569526\n",
      "....Loss value at 1 : 0.69642\n",
      "....Loss value at 2 : 0.86199\n",
      "....Loss value at 3 : 1.02411\n",
      "....Loss value at 4 : 1.1942\n",
      "....Loss value at 5 : 1.37419\n",
      "....Loss value at 6 : 1.55397\n",
      "....Loss value at 7 : 1.72567\n",
      "....Loss value at 8 : 1.90747\n",
      "....Loss value at 9 : 2.02874\n",
      "....Loss value at 10 : 2.22579\n",
      "....Loss value at 11 : 2.34697\n",
      "....Loss value at 12 : 2.52133\n",
      "....Loss value at 13 : 2.70827\n",
      "....Loss value at 14 : 2.86422\n",
      "....Loss value at 15 : 3.02256\n",
      "....Loss value at 16 : 3.17851\n",
      "....Loss value at 17 : 3.29972\n",
      "....Loss value at 18 : 3.46899\n",
      "....Loss value at 19 : 3.60415\n"
     ]
    },
    {
     "name": "stderr",
     "output_type": "stream",
     "text": [
      "C:\\Users\\DELL\\Anaconda3\\lib\\site-packages\\ipykernel_launcher.py:13: DeprecationWarning: `imsave` is deprecated!\n",
      "`imsave` is deprecated in SciPy 1.0.0, and will be removed in 1.2.0.\n",
      "Use ``imageio.imwrite`` instead.\n",
      "  del sys.path[0]\n"
     ]
    },
    {
     "name": "stdout",
     "output_type": "stream",
     "text": [
      "Processing image shape (308, 173)\n",
      "....Loss value at 0 : 1.76431\n",
      "....Loss value at 1 : 2.44819\n",
      "....Loss value at 2 : 3.01717\n",
      "....Loss value at 3 : 3.51694\n",
      "....Loss value at 4 : 3.98719\n",
      "....Loss value at 5 : 4.44178\n",
      "....Loss value at 6 : 4.83912\n",
      "....Loss value at 7 : 5.24948\n",
      "....Loss value at 8 : 5.64633\n",
      "....Loss value at 9 : 5.99701\n",
      "....Loss value at 10 : 6.3534\n",
      "....Loss value at 11 : 6.64818\n",
      "....Loss value at 12 : 6.9743\n",
      "....Loss value at 13 : 7.2602\n",
      "....Loss value at 14 : 7.55295\n",
      "....Loss value at 15 : 7.8204\n",
      "....Loss value at 16 : 8.07412\n",
      "....Loss value at 17 : 8.34555\n",
      "....Loss value at 18 : 8.53418\n",
      "....Loss value at 19 : 8.76168\n",
      "Processing image shape (462, 260)\n",
      "....Loss value at 0 : 2.38692\n",
      "....Loss value at 1 : 3.15863\n",
      "....Loss value at 2 : 3.84042\n",
      "....Loss value at 3 : 4.46472\n",
      "....Loss value at 4 : 5.0496\n",
      "....Loss value at 5 : 5.57298\n",
      "....Loss value at 6 : 6.05985\n",
      "....Loss value at 7 : 6.49391\n",
      "....Loss value at 8 : 6.92856\n",
      "....Loss value at 9 : 7.31622\n",
      "....Loss value at 10 : 7.72866\n",
      "....Loss value at 11 : 8.07992\n",
      "....Loss value at 12 : 8.45132\n",
      "....Loss value at 13 : 8.79657\n",
      "....Loss value at 14 : 9.1104\n",
      "....Loss value at 15 : 9.42063\n",
      "....Loss value at 16 : 9.68694\n",
      "Processing image shape (693, 390)\n",
      "....Loss value at 0 : 2.76725\n",
      "....Loss value at 1 : 3.58379\n",
      "....Loss value at 2 : 4.26472\n",
      "....Loss value at 3 : 4.89969\n",
      "....Loss value at 4 : 5.49883\n",
      "....Loss value at 5 : 6.07162\n",
      "....Loss value at 6 : 6.65432\n",
      "....Loss value at 7 : 7.17311\n",
      "....Loss value at 8 : 7.69261\n",
      "....Loss value at 9 : 8.19546\n",
      "....Loss value at 10 : 8.69966\n",
      "....Loss value at 11 : 9.1929\n",
      "....Loss value at 12 : 9.69964\n",
      "Processing image shape (1040, 585)\n",
      "....Loss value at 0 : 3.06022\n",
      "....Loss value at 1 : 4.03313\n",
      "....Loss value at 2 : 4.9069\n",
      "....Loss value at 3 : 5.75079\n",
      "....Loss value at 4 : 6.62756\n",
      "....Loss value at 5 : 7.53081\n",
      "....Loss value at 6 : 8.57484\n",
      "....Loss value at 7 : 9.68482\n"
     ]
    }
   ],
   "source": [
    "#running  gradiant ascent over diff. successive scales\n",
    "import numpy as np \n",
    "step =.005\n",
    "num_octave =5\n",
    "octave_scale=1.5\n",
    "iteration = 20\n",
    "\n",
    "max_loss=10.\n",
    "\n",
    "base_img_path = './Data_Sets/w.jpeg'\n",
    "\n",
    "img = preprocess_image(base_img_path)\n",
    "origanl_shape =img.shape[1:3]\n",
    "successive_shapes = [origanl_shape]\n",
    "for i in range (1,num_octave):\n",
    "    shape = tuple([int(dim/(octave_scale **i)) for dim in origanl_shape])\n",
    "    successive_shapes.append(shape)\n",
    "successive_shapes = successive_shapes[::-1]\n",
    "\n",
    "original_img = np.copy(img)\n",
    "shrunk_origanl_img = resize_img(img, successive_shapes[0])\n",
    "\n",
    "for shape in successive_shapes:\n",
    "    print('Processing image shape', shape)\n",
    "    img = resize_img(img, shape)\n",
    "    img = gradient_ascent(img, iterations = iteration, \n",
    "                         step =step,\n",
    "                         max_loss=max_loss)\n",
    "    upscaled_shrunk_org_img = resize_img(shrunk_origanl_img, shape)\n",
    "    same_size_original = resize_img(original_img, shape)\n",
    "    lost_detail = same_size_original - upscaled_shrunk_org_img\n",
    "    \n",
    "    img += lost_detail\n",
    "    shrunk_origanl_img = resize_img(original_img, shape)\n",
    "    save_img(img, fname='dream_at_scale_'+str(shape)+'.png')\n",
    "save_img(img, fname='dream.png')"
   ]
  },
  {
   "cell_type": "code",
   "execution_count": null,
   "metadata": {},
   "outputs": [],
   "source": []
  }
 ],
 "metadata": {
  "kernelspec": {
   "display_name": "Python 3",
   "language": "python",
   "name": "python3"
  },
  "language_info": {
   "codemirror_mode": {
    "name": "ipython",
    "version": 3
   },
   "file_extension": ".py",
   "mimetype": "text/x-python",
   "name": "python",
   "nbconvert_exporter": "python",
   "pygments_lexer": "ipython3",
   "version": "3.6.4"
  }
 },
 "nbformat": 4,
 "nbformat_minor": 2
}
